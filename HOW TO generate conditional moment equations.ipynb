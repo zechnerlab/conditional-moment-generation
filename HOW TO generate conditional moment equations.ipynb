{
 "cells": [
  {
   "cell_type": "markdown",
   "id": "ef8f8afb-45a7-43e9-822c-3bca8b749369",
   "metadata": {},
   "source": [
    "# HOW TO: generate conditional moment equations"
   ]
  },
  {
   "cell_type": "markdown",
   "id": "579e1d26-24cc-4a19-9f90-84c3fc0a564e",
   "metadata": {},
   "source": [
    "This notebook serves the purpose of showing how to generate conditional moment equations from a given reaction network. It shows the steps of \n",
    "* defining the reaction network, \n",
    "* specifying *selected* and *latent* chemical species, \n",
    "* generating the conditional moment equations,\n",
    "* choosing a moment closure approximation to close the set of generated moment equations, and\n",
    "* converting the obtained equations to use them for numerical simulations."
   ]
  },
  {
   "cell_type": "markdown",
   "id": "dd30e713-161f-42dc-9394-ba0a38422a33",
   "metadata": {},
   "source": [
    "For information on theoretical background and manual derivation of conditional moment equations, refer to:\n",
    "\n",
    "*Duso, L. & Zechner, C. Selected-node stochastic simulation algorithm. J. Chem. Phys. 148, (2018).* (SI)"
   ]
  },
  {
   "cell_type": "markdown",
   "id": "04d0bb0f-f128-4e9c-a555-64c3c0a91f9d",
   "metadata": {},
   "source": [
    "The automated generation of conditional moment equations is performed using the symbolic mathematics package [sympy](https://www.sympy.org/en/index.html)."
   ]
  },
  {
   "cell_type": "code",
   "execution_count": 1,
   "id": "c6b56dd9-704c-41a1-8ef8-cc5875cdcb94",
   "metadata": {},
   "outputs": [],
   "source": [
    "from sympy import symbols, Matrix, Function, sympify, init_printing, Array, Pow, Mul, lambdify\n",
    "from sympy.core.function import AppliedUndef\n",
    "import string\n",
    "from operator import mul\n",
    "from functools import reduce\n",
    "from itertools import combinations_with_replacement\n",
    "\n",
    "import dill # saving/restoring files with symbolic expressions\n",
    "dill.settings['recurse'] = True\n",
    "\n",
    "init_printing()\n",
    "\n",
    "from IPython.display import display, Math"
   ]
  },
  {
   "cell_type": "code",
   "execution_count": 2,
   "id": "2fa4ea01-1dd3-4821-9c73-57e9dcc1f79d",
   "metadata": {},
   "outputs": [],
   "source": [
    "import conditionalMomentGenerator as cmg"
   ]
  },
  {
   "cell_type": "markdown",
   "id": "9107a2f5-536b-417d-ab32-9d1af725bca6",
   "metadata": {},
   "source": [
    "## 1. Defining the reaction network"
   ]
  },
  {
   "cell_type": "markdown",
   "id": "b2463f3c-bd6f-4d26-9c71-421fa7708cdf",
   "metadata": {},
   "source": [
    "Throughout this notebook, we will consider the following reaction system which was treated in *Duso & Zechner (2018)*:"
   ]
  },
  {
   "cell_type": "markdown",
   "id": "d4dc972b-4278-4dcc-900a-80b02de0dfd9",
   "metadata": {},
   "source": [
    "$$\\begin{align*}\n",
    "\t\\emptyset &\\xrightarrow{\\;c_1\\;} R_i  &G_i^{*} &\\xrightarrow{\\;c_5\\;} G_i^{*} + R_i \\\\\n",
    "    R_i &\\xrightarrow{\\;c_2\\;} \\emptyset &P_i + G_j^{*} &\\xrightarrow{\\;c_6\\;} P_i + G_j \\\\\n",
    "\tR_i &\\xrightarrow{\\;c_3\\;} R_i + P_i &G_i &\\xrightarrow{\\;c_7\\;} G_i^{*} \\\\\n",
    "\tP_i &\\xrightarrow{\\;c_4\\;} \\emptyset &G_i^{*} &\\xrightarrow{\\;c_8\\;} G_i \\quad\\quad\\quad\\quad\\quad\\quad i = 1,2\\text{,}\\;\\; j \\neq i\n",
    "\\end{align*}$$"
   ]
  },
  {
   "cell_type": "markdown",
   "id": "57a9d67f-c126-4484-a94d-adea1cf78f1f",
   "metadata": {},
   "source": [
    "with $R_i$: mRNAs, $P_i$: proteins, $G_i^*$/$G_i$: active/inactive promoters.\n",
    "\n",
    "The network consists of 16 reactions with 8 chemical species and is a model network for symmetric bistable protein expression. Reactions 1 to 5 (9 to 13, respectively) describe the production and degradation of mRNAs and proteins. Reactions 7 and 8 (15 and 16, respectively) describe how the promoters switch from active to inactive state and vice versa at constant rates. In reaction 6 (14, respectively) though, the protein inactivates the promoter of the respective other gene, thereby inhibiting the protein expression of the other protein and indirectly promoting its own expression.\n",
    "\n",
    "In the conditional moment generator, the reaction network has to be defined in terms of its reactant and product stoichiometry matrices using the `Matrix()` syntax of sympy."
   ]
  },
  {
   "cell_type": "code",
   "execution_count": 3,
   "id": "30c40296-5459-42fc-acea-864c8cf29dec",
   "metadata": {},
   "outputs": [],
   "source": [
    "stoich_reac = Matrix(((0,0,0,0,0,1,0,1,0,0,0,0,1,0,0,0), # G_1a (active)\n",
    "                     (0,0,0,0,0,0,1,0,0,0,0,0,0,0,0,0), # G_1i (inactive)\n",
    "                     (0,0,0,0,1,0,0,0,0,0,0,0,0,1,0,1), # G_2a\n",
    "                     (0,0,0,0,0,0,0,0,0,0,0,0,0,0,1,0), # G_2i\n",
    "                     (0,1,1,0,0,0,0,0,0,0,0,0,0,0,0,0), # R_1\n",
    "                     (0,0,0,0,0,0,0,0,0,1,1,0,0,0,0,0), # R_2\n",
    "                     (0,0,0,1,1,0,0,0,0,0,0,0,0,0,0,0), # P_1\n",
    "                     (0,0,0,0,0,0,0,0,0,0,0,1,1,0,0,0))) # P_2\n",
    "\n",
    "stoich_prod = Matrix(((0,0,0,0,0,1,1,0,0,0,0,0,0,0,0,0), # G_1a\n",
    "                     (0,0,0,0,0,0,0,1,0,0,0,0,1,0,0,0), # G_1i\n",
    "                     (0,0,0,0,0,0,0,0,0,0,0,0,0,1,1,0), # G_2a\n",
    "                     (0,0,0,0,1,0,0,0,0,0,0,0,0,0,0,1), # G_2i\n",
    "                     (1,0,1,0,0,1,0,0,0,0,0,0,0,0,0,0), # R_1\n",
    "                     (0,0,0,0,0,0,0,0,1,0,1,0,0,1,0,0), # R_2\n",
    "                     (0,0,1,0,1,0,0,0,0,0,0,0,0,0,0,0), # P_1\n",
    "                     (0,0,0,0,0,0,0,0,0,0,1,0,1,0,0,0))) # P_2\n",
    "\n",
    "species = ['G_1a', 'G_1i', 'G_2a', 'G_2i', 'R_1', 'R_2', 'P_1', 'P_2']"
   ]
  },
  {
   "cell_type": "markdown",
   "id": "9c8d102e-fd9a-482b-8e48-534726a73223",
   "metadata": {},
   "source": [
    "Names for species and reaction rates can be specified by the user. If not specified, default names ($A, B, C$, ... for species and $c_1, c_2, c_3$, ... for rates) are used. The reaction network is initialized by the function `reactionSystem()`."
   ]
  },
  {
   "cell_type": "code",
   "execution_count": 4,
   "id": "7d4e3259-625e-4872-afdf-a6b9bf101d3b",
   "metadata": {},
   "outputs": [],
   "source": [
    "X, rates, stoich_net = cmg.reactionSystem(stoich_reac, stoich_prod, X = species)"
   ]
  },
  {
   "cell_type": "code",
   "execution_count": 5,
   "id": "f8053e46-4d4e-498d-9cd6-4a350748fd3b",
   "metadata": {
    "tags": []
   },
   "outputs": [
    {
     "data": {
      "text/plain": [
       "'species:'"
      ]
     },
     "metadata": {},
     "output_type": "display_data"
    },
    {
     "data": {
      "image/png": "[encoded data removed]",
      "text/latex": [
       "$\\displaystyle \\left[ G_{1a}, \\  G_{1i}, \\  G_{2a}, \\  G_{2i}, \\  R_{1}, \\  R_{2}, \\  P_{1}, \\  P_{2}\\right]$"
      ],
      "text/plain": [
       "[G₁ₐ, G₁ᵢ, G₂ₐ, G₂ᵢ, R₁, R₂, P₁, P₂]"
      ]
     },
     "metadata": {},
     "output_type": "display_data"
    },
    {
     "data": {
      "text/plain": [
       "'rates:'"
      ]
     },
     "metadata": {},
     "output_type": "display_data"
    },
    {
     "data": {
      "image/png": "[encoded data removed]",
      "text/latex": [
       "$\\displaystyle \\left[ c_{1}, \\  c_{2}, \\  c_{3}, \\  c_{4}, \\  c_{5}, \\  c_{6}, \\  c_{7}, \\  c_{8}, \\  c_{9}, \\  c_{10}, \\  c_{11}, \\  c_{12}, \\  c_{13}, \\  c_{14}, \\  c_{15}, \\  c_{16}\\right]$"
      ],
      "text/plain": [
       "[c₁, c₂, c₃, c₄, c₅, c₆, c₇, c₈, c₉, c₁₀, c₁₁, c₁₂, c₁₃, c₁₄, c₁₅, c₁₆]"
      ]
     },
     "metadata": {},
     "output_type": "display_data"
    },
    {
     "data": {
      "text/plain": [
       "'net stoichiometry:'"
      ]
     },
     "metadata": {},
     "output_type": "display_data"
    },
    {
     "data": {
      "image/png": "[encoded data removed]",
      "text/latex": [
       "$\\displaystyle \\left[\\begin{array}{cccccccccccccccc}0 & 0 & 0 & 0 & 0 & 0 & 1 & -1 & 0 & 0 & 0 & 0 & -1 & 0 & 0 & 0\\\\0 & 0 & 0 & 0 & 0 & 0 & -1 & 1 & 0 & 0 & 0 & 0 & 1 & 0 & 0 & 0\\\\0 & 0 & 0 & 0 & -1 & 0 & 0 & 0 & 0 & 0 & 0 & 0 & 0 & 0 & 1 & -1\\\\0 & 0 & 0 & 0 & 1 & 0 & 0 & 0 & 0 & 0 & 0 & 0 & 0 & 0 & -1 & 1\\\\1 & -1 & 0 & 0 & 0 & 1 & 0 & 0 & 0 & 0 & 0 & 0 & 0 & 0 & 0 & 0\\\\0 & 0 & 0 & 0 & 0 & 0 & 0 & 0 & 1 & -1 & 0 & 0 & 0 & 1 & 0 & 0\\\\0 & 0 & 1 & -1 & 0 & 0 & 0 & 0 & 0 & 0 & 0 & 0 & 0 & 0 & 0 & 0\\\\0 & 0 & 0 & 0 & 0 & 0 & 0 & 0 & 0 & 0 & 1 & -1 & 0 & 0 & 0 & 0\\end{array}\\right]$"
      ],
      "text/plain": [
       "⎡0  0   0  0   0   0  1   -1  0  0   0  0   -1  0  0   0 ⎤\n",
       "⎢                                                        ⎥\n",
       "⎢0  0   0  0   0   0  -1  1   0  0   0  0   1   0  0   0 ⎥\n",
       "⎢                                                        ⎥\n",
       "⎢0  0   0  0   -1  0  0   0   0  0   0  0   0   0  1   -1⎥\n",
       "⎢                                                        ⎥\n",
       "⎢0  0   0  0   1   0  0   0   0  0   0  0   0   0  -1  1 ⎥\n",
       "⎢                                                        ⎥\n",
       "⎢1  -1  0  0   0   1  0   0   0  0   0  0   0   0  0   0 ⎥\n",
       "⎢                                                        ⎥\n",
       "⎢0  0   0  0   0   0  0   0   1  -1  0  0   0   1  0   0 ⎥\n",
       "⎢                                                        ⎥\n",
       "⎢0  0   1  -1  0   0  0   0   0  0   0  0   0   0  0   0 ⎥\n",
       "⎢                                                        ⎥\n",
       "⎣0  0   0  0   0   0  0   0   0  0   1  -1  0   0  0   0 ⎦"
      ]
     },
     "metadata": {},
     "output_type": "display_data"
    }
   ],
   "source": [
    "display(\"species:\", X)\n",
    "display(\"rates:\", rates)\n",
    "display(\"net stoichiometry:\", stoich_net)"
   ]
  },
  {
   "cell_type": "markdown",
   "id": "687a0352-0802-4a2d-b2d8-7a05d78b1bb6",
   "metadata": {},
   "source": [
    "Using `propensities()`, the reaction propensities following mass action kinetics are computed."
   ]
  },
  {
   "cell_type": "code",
   "execution_count": 6,
   "id": "282ce9e8-ce85-4123-bdbf-4680d2d53720",
   "metadata": {},
   "outputs": [
    {
     "data": {
      "text/plain": [
       "'propensities:'"
      ]
     },
     "metadata": {},
     "output_type": "display_data"
    },
    {
     "data": {
      "image/png": "[encoded data removed]",
      "text/latex": [
       "$\\displaystyle \\left[ c_{1}, \\  R_{1} c_{2}, \\  R_{1} c_{3}, \\  P_{1} c_{4}, \\  G_{2a} P_{1} c_{5}, \\  G_{1a} c_{6}, \\  G_{1i} c_{7}, \\  G_{1a} c_{8}, \\  c_{9}, \\  R_{2} c_{10}, \\  R_{2} c_{11}, \\  P_{2} c_{12}, \\  G_{1a} P_{2} c_{13}, \\  G_{2a} c_{14}, \\  G_{2i} c_{15}, \\  G_{2a} c_{16}\\right]$"
      ],
      "text/plain": [
       "[c₁, R₁⋅c₂, R₁⋅c₃, P₁⋅c₄, G₂ₐ⋅P₁⋅c₅, G₁ₐ⋅c₆, G₁ᵢ⋅c₇, G₁ₐ⋅c₈, c₉, R₂⋅c₁₀, R₂⋅c₁\n",
       "₁, P₂⋅c₁₂, G₁ₐ⋅P₂⋅c₁₃, G₂ₐ⋅c₁₄, G₂ᵢ⋅c₁₅, G₂ₐ⋅c₁₆]"
      ]
     },
     "metadata": {},
     "output_type": "display_data"
    }
   ],
   "source": [
    "display('propensities:', cmg.propensities(X, rates, stoich_reac))"
   ]
  },
  {
   "cell_type": "markdown",
   "id": "82d04dde-0f56-426f-92b2-907ee6c9b118",
   "metadata": {},
   "source": [
    "## 2. Specifying *selected* and *latent* species"
   ]
  },
  {
   "cell_type": "markdown",
   "id": "ae6de048-2ddb-4beb-8131-790991b05589",
   "metadata": {},
   "source": [
    "Computing conditional moment equations is based on the idea of describing the time course of some chemical species conditioned on the trajectories over time of the remaining chemical species. We term those species for which the whole evolution is given/known explicitly *selected* ($X$), while the other species which we want to generate the conditional moment equations for are termed *latent* ($Z$).\n",
    "\n",
    "Consequently, the reactions of the network are split into subnetworks which contain:\n",
    "* reactions that modify latent species only ($R_Z$), \n",
    "* reactions that mofidy selected species ($R_X$), and\n",
    "* coupling reactions where both, selected and latent species are involved ($R_C$).\n",
    "\n",
    "This is achieved using the command `splitNetwork()` and specifying the names of the *selected* species as a list of strings. For our example, we choose as selected species the active and inactive promoters $X = (G_1^*,G_1,G_2^*,G_2)$."
   ]
  },
  {
   "cell_type": "code",
   "execution_count": 7,
   "id": "8bf7fadc-6078-4669-95bc-b97799f11593",
   "metadata": {},
   "outputs": [],
   "source": [
    "select = ['G_1a', 'G_1i', 'G_2a', 'G_2i']\n",
    "idx_select, idx_latent, RX, RL, RO, RH, RC, RZ = cmg.splitNetwork(select, X, stoich_net, stoich_reac, stoich_prod)"
   ]
  },
  {
   "cell_type": "code",
   "execution_count": 8,
   "id": "6c0c184f-1486-4acd-83c3-f46bbd76acfb",
   "metadata": {
    "tags": []
   },
   "outputs": [
    {
     "data": {
      "text/plain": [
       "'selected species:'"
      ]
     },
     "metadata": {},
     "output_type": "display_data"
    },
    {
     "data": {
      "image/png": "[encoded data removed]",
      "text/latex": [
       "$\\displaystyle \\left[ G_{1a}, \\  G_{1i}, \\  G_{2a}, \\  G_{2i}\\right]$"
      ],
      "text/plain": [
       "[G₁ₐ, G₁ᵢ, G₂ₐ, G₂ᵢ]"
      ]
     },
     "metadata": {},
     "output_type": "display_data"
    },
    {
     "data": {
      "text/plain": [
       "'latent species:'"
      ]
     },
     "metadata": {},
     "output_type": "display_data"
    },
    {
     "data": {
      "image/png": "[encoded data removed]",
      "text/latex": [
       "$\\displaystyle \\left[ R_{1}, \\  R_{2}, \\  P_{1}, \\  P_{2}\\right]$"
      ],
      "text/plain": [
       "[R₁, R₂, P₁, P₂]"
      ]
     },
     "metadata": {},
     "output_type": "display_data"
    },
    {
     "data": {
      "text/plain": [
       "'latent reactions:'"
      ]
     },
     "metadata": {},
     "output_type": "display_data"
    },
    {
     "data": {
      "image/png": "[encoded data removed]",
      "text/latex": [
       "$\\displaystyle \\left[ 1, \\  2, \\  3, \\  4, \\  6, \\  9, \\  10, \\  11, \\  12, \\  14\\right]$"
      ],
      "text/plain": [
       "[1, 2, 3, 4, 6, 9, 10, 11, 12, 14]"
      ]
     },
     "metadata": {},
     "output_type": "display_data"
    },
    {
     "data": {
      "text/plain": [
       "'selected reactions:'"
      ]
     },
     "metadata": {},
     "output_type": "display_data"
    },
    {
     "data": {
      "text/plain": [
       "[5, 7, 8, 13, 15, 16]"
      ]
     },
     "metadata": {},
     "output_type": "display_data"
    },
    {
     "data": {
      "text/plain": [
       "'coupling reactions:'"
      ]
     },
     "metadata": {},
     "output_type": "display_data"
    },
    {
     "data": {
      "text/plain": [
       "[5, 13]"
      ]
     },
     "metadata": {},
     "output_type": "display_data"
    }
   ],
   "source": [
    "display(\"selected species:\", [X[i] for i in idx_select])\n",
    "display(\"latent species:\", [X[i] for i in idx_latent])\n",
    "display(\"latent reactions:\", [i+1 for i in RZ])\n",
    "display(\"selected reactions:\", [i+1 for i in RX])\n",
    "display(\"coupling reactions:\", [i+1 for i in RC])"
   ]
  },
  {
   "cell_type": "markdown",
   "id": "580eb11e-7fcd-4640-bf71-64b2486aac55",
   "metadata": {},
   "source": [
    "## 3. Generating the filter equation"
   ]
  },
  {
   "cell_type": "markdown",
   "id": "ffa6f811-cc9a-4aea-9e7a-b8160281d9c5",
   "metadata": {},
   "source": [
    "Before generating the conditional moment equations for the latent species, the filter equation needs to be set up. The filter equation $\\pi(z,t) = p(z,t | \\textbf{X}_t)$ is a differential equation for the conditional probability distribution of the latent chemical species given the histories of the selected species. Similar to the chemical master equation, it contains deterministic terms with stoichiometric changes towards and away from the current state of the latent species, but additionally, it contains stochastic terms for each of the coupling reactions, i.e., those reactions that involve both, selected and latent species. In the generator tool, the filter equation is generated via the command `computeFilterEquation()`."
   ]
  },
  {
   "cell_type": "code",
   "execution_count": 9,
   "id": "185cb08a-ce7e-41ec-8708-489fac53f0c2",
   "metadata": {},
   "outputs": [],
   "source": [
    "filterEqT, filterEqR = cmg.computeFilterEquation(X, rates, stoich_reac, \n",
    "                                                 stoich_net, RO, RL, RZ, idx_latent, idx_select)\n",
    "filterEq = filterEqT + filterEqR"
   ]
  },
  {
   "cell_type": "code",
   "execution_count": 10,
   "id": "4f00915a-d2a7-434f-901b-0c93e1372c25",
   "metadata": {},
   "outputs": [
    {
     "data": {
      "text/plain": [
       "'Filter equation:'"
      ]
     },
     "metadata": {},
     "output_type": "display_data"
    },
    {
     "data": {
      "text/latex": [
       "$\\displaystyle d \\pi([R_1, R_2, P_1, P_2], t) = $"
      ],
      "text/plain": [
       "<IPython.core.display.Math object>"
      ]
     },
     "metadata": {},
     "output_type": "display_data"
    },
    {
     "data": {
      "image/png": "[encoded data removed]",
      "text/latex": [
       "$\\displaystyle dR_{13} \\left(\\frac{P_{2} \\pi{\\left(\\left[\\begin{matrix}R_{1} & R_{2} & P_{1} & P_{2}\\end{matrix}\\right],t \\right)}}{M{\\left(P_{2} \\right)}} - \\pi{\\left(\\left[\\begin{matrix}R_{1} & R_{2} & P_{1} & P_{2}\\end{matrix}\\right],t \\right)}\\right) + dR_{5} \\left(\\frac{P_{1} \\pi{\\left(\\left[\\begin{matrix}R_{1} & R_{2} & P_{1} & P_{2}\\end{matrix}\\right],t \\right)}}{M{\\left(P_{1} \\right)}} - \\pi{\\left(\\left[\\begin{matrix}R_{1} & R_{2} & P_{1} & P_{2}\\end{matrix}\\right],t \\right)}\\right) + dt \\left(- G_{1a} c_{6} \\pi{\\left(\\left[\\begin{matrix}R_{1} & R_{2} & P_{1} & P_{2}\\end{matrix}\\right],t \\right)} + G_{1a} c_{6} \\pi{\\left(\\left[\\begin{matrix}R_{1} - 1 & R_{2} & P_{1} & P_{2}\\end{matrix}\\right],t \\right)} - G_{2a} c_{14} \\pi{\\left(\\left[\\begin{matrix}R_{1} & R_{2} & P_{1} & P_{2}\\end{matrix}\\right],t \\right)} + G_{2a} c_{14} \\pi{\\left(\\left[\\begin{matrix}R_{1} & R_{2} - 1 & P_{1} & P_{2}\\end{matrix}\\right],t \\right)} - P_{1} c_{4} \\pi{\\left(\\left[\\begin{matrix}R_{1} & R_{2} & P_{1} & P_{2}\\end{matrix}\\right],t \\right)} - P_{2} c_{12} \\pi{\\left(\\left[\\begin{matrix}R_{1} & R_{2} & P_{1} & P_{2}\\end{matrix}\\right],t \\right)} - R_{1} c_{2} \\pi{\\left(\\left[\\begin{matrix}R_{1} & R_{2} & P_{1} & P_{2}\\end{matrix}\\right],t \\right)} - R_{1} c_{3} \\pi{\\left(\\left[\\begin{matrix}R_{1} & R_{2} & P_{1} & P_{2}\\end{matrix}\\right],t \\right)} + R_{1} c_{3} \\pi{\\left(\\left[\\begin{matrix}R_{1} & R_{2} & P_{1} - 1 & P_{2}\\end{matrix}\\right],t \\right)} - R_{2} c_{10} \\pi{\\left(\\left[\\begin{matrix}R_{1} & R_{2} & P_{1} & P_{2}\\end{matrix}\\right],t \\right)} - R_{2} c_{11} \\pi{\\left(\\left[\\begin{matrix}R_{1} & R_{2} & P_{1} & P_{2}\\end{matrix}\\right],t \\right)} + R_{2} c_{11} \\pi{\\left(\\left[\\begin{matrix}R_{1} & R_{2} & P_{1} & P_{2} - 1\\end{matrix}\\right],t \\right)} - c_{1} \\pi{\\left(\\left[\\begin{matrix}R_{1} & R_{2} & P_{1} & P_{2}\\end{matrix}\\right],t \\right)} + c_{1} \\pi{\\left(\\left[\\begin{matrix}R_{1} - 1 & R_{2} & P_{1} & P_{2}\\end{matrix}\\right],t \\right)} + c_{10} \\left(R_{2} + 1\\right) \\pi{\\left(\\left[\\begin{matrix}R_{1} & R_{2} + 1 & P_{1} & P_{2}\\end{matrix}\\right],t \\right)} + c_{12} \\left(P_{2} + 1\\right) \\pi{\\left(\\left[\\begin{matrix}R_{1} & R_{2} & P_{1} & P_{2} + 1\\end{matrix}\\right],t \\right)} + c_{2} \\left(R_{1} + 1\\right) \\pi{\\left(\\left[\\begin{matrix}R_{1} + 1 & R_{2} & P_{1} & P_{2}\\end{matrix}\\right],t \\right)} + c_{4} \\left(P_{1} + 1\\right) \\pi{\\left(\\left[\\begin{matrix}R_{1} & R_{2} & P_{1} + 1 & P_{2}\\end{matrix}\\right],t \\right)} - c_{9} \\pi{\\left(\\left[\\begin{matrix}R_{1} & R_{2} & P_{1} & P_{2}\\end{matrix}\\right],t \\right)} + c_{9} \\pi{\\left(\\left[\\begin{matrix}R_{1} & R_{2} - 1 & P_{1} & P_{2}\\end{matrix}\\right],t \\right)} - \\left(G_{1a} P_{2} c_{13} - G_{1a} c_{13} M{\\left(P_{2} \\right)}\\right) \\pi{\\left(\\left[\\begin{matrix}R_{1} & R_{2} & P_{1} & P_{2}\\end{matrix}\\right],t \\right)} - \\left(G_{2a} P_{1} c_{5} - G_{2a} c_{5} M{\\left(P_{1} \\right)}\\right) \\pi{\\left(\\left[\\begin{matrix}R_{1} & R_{2} & P_{1} & P_{2}\\end{matrix}\\right],t \\right)}\\right)$"
      ],
      "text/plain": [
       "     ⎛P₂⋅π([R₁  R₂  P₁  P₂], t)                         ⎞       ⎛P₁⋅π([R₁  R₂ \n",
       "dR₁₃⋅⎜───────────────────────── - π([R₁  R₂  P₁  P₂], t)⎟ + dR₅⋅⎜─────────────\n",
       "     ⎝          M(P₂)                                   ⎠       ⎝          M(P\n",
       "\n",
       " P₁  P₂], t)                         ⎞                                        \n",
       "──────────── - π([R₁  R₂  P₁  P₂], t)⎟ + dt⋅(-G₁ₐ⋅c₆⋅π([R₁  R₂  P₁  P₂], t) + \n",
       "₁)                                   ⎠                                        \n",
       "\n",
       "                                                                              \n",
       "G₁ₐ⋅c₆⋅π([R₁ - 1  R₂  P₁  P₂], t) - G₂ₐ⋅c₁₄⋅π([R₁  R₂  P₁  P₂], t) + G₂ₐ⋅c₁₄⋅π\n",
       "                                                                              \n",
       "\n",
       "                                                                              \n",
       "([R₁  R₂ - 1  P₁  P₂], t) - P₁⋅c₄⋅π([R₁  R₂  P₁  P₂], t) - P₂⋅c₁₂⋅π([R₁  R₂  P\n",
       "                                                                              \n",
       "\n",
       "                                                                              \n",
       "₁  P₂], t) - R₁⋅c₂⋅π([R₁  R₂  P₁  P₂], t) - R₁⋅c₃⋅π([R₁  R₂  P₁  P₂], t) + R₁⋅\n",
       "                                                                              \n",
       "\n",
       "                                                                              \n",
       "c₃⋅π([R₁  R₂  P₁ - 1  P₂], t) - R₂⋅c₁₀⋅π([R₁  R₂  P₁  P₂], t) - R₂⋅c₁₁⋅π([R₁  \n",
       "                                                                              \n",
       "\n",
       "                                                                              \n",
       "R₂  P₁  P₂], t) + R₂⋅c₁₁⋅π([R₁  R₂  P₁  P₂ - 1], t) - c₁⋅π([R₁  R₂  P₁  P₂], t\n",
       "                                                                              \n",
       "\n",
       "                                                                              \n",
       ") + c₁⋅π([R₁ - 1  R₂  P₁  P₂], t) + c₁₀⋅(R₂ + 1)⋅π([R₁  R₂ + 1  P₁  P₂], t) + \n",
       "                                                                              \n",
       "\n",
       "                                                                              \n",
       "c₁₂⋅(P₂ + 1)⋅π([R₁  R₂  P₁  P₂ + 1], t) + c₂⋅(R₁ + 1)⋅π([R₁ + 1  R₂  P₁  P₂], \n",
       "                                                                              \n",
       "\n",
       "                                                                              \n",
       "t) + c₄⋅(P₁ + 1)⋅π([R₁  R₂  P₁ + 1  P₂], t) - c₉⋅π([R₁  R₂  P₁  P₂], t) + c₉⋅π\n",
       "                                                                              \n",
       "\n",
       "                                                                              \n",
       "([R₁  R₂ - 1  P₁  P₂], t) - (G₁ₐ⋅P₂⋅c₁₃ - G₁ₐ⋅c₁₃⋅M(P₂))⋅π([R₁  R₂  P₁  P₂], t\n",
       "                                                                              \n",
       "\n",
       "                                                      \n",
       ") - (G₂ₐ⋅P₁⋅c₅ - G₂ₐ⋅c₅⋅M(P₁))⋅π([R₁  R₂  P₁  P₂], t))\n",
       "                                                      "
      ]
     },
     "metadata": {},
     "output_type": "display_data"
    }
   ],
   "source": [
    "display(\"Filter equation:\")\n",
    "display(Math(r'd \\pi({}, t) = '.format([X[i] for i in idx_latent])))\n",
    "display(filterEq)\n",
    "#display(\"Time-dependent part:\", filterEqT)\n",
    "#display(\"Stochastic part:\", filterEqR)"
   ]
  },
  {
   "cell_type": "markdown",
   "id": "c995c038-4186-4319-b520-32d4f3d2a307",
   "metadata": {},
   "source": [
    "In the tool, we use the notation $M()$ for moments (e.g., $M(P_1^2)$ is the second moment of species $P_1$).\n",
    "\n",
    "Note that the *selected* species occur explicitly in the expression while the *latent* species only occur in terms of moments."
   ]
  },
  {
   "cell_type": "markdown",
   "id": "9ef12e07-d1e2-4a47-9cdb-3fa9371f7eb0",
   "metadata": {},
   "source": [
    "## 4. Generating the conditional moment equations"
   ]
  },
  {
   "cell_type": "markdown",
   "id": "db555635-e5b3-4d31-ae3c-efeb1b289477",
   "metadata": {},
   "source": [
    "Given the filter equation, conditional moment equations up to a specified `order` can be generated using `generateConditionalMomentEquations()`."
   ]
  },
  {
   "cell_type": "code",
   "execution_count": 11,
   "id": "313f28b0-1814-4952-9ad9-de60af80b1b3",
   "metadata": {},
   "outputs": [],
   "source": [
    "order = 2\n",
    "dM, conditional_moments = cmg.generateConditionalMomentEquations(X, idx_latent, filterEq, order=order)"
   ]
  },
  {
   "cell_type": "code",
   "execution_count": 12,
   "id": "43d690f6-cfee-43b4-ae5f-51888d3cb673",
   "metadata": {},
   "outputs": [
    {
     "data": {
      "text/plain": [
       "'Moments for which the conditional moment equations are generated:'"
      ]
     },
     "metadata": {},
     "output_type": "display_data"
    },
    {
     "data": {
      "image/png": "[encoded data removed]",
      "text/latex": [
       "$\\displaystyle \\left[ R_{1}, \\  R_{2}, \\  P_{1}, \\  P_{2}, \\  R_{1}^{2}, \\  R_{1} R_{2}, \\  P_{1} R_{1}, \\  P_{2} R_{1}, \\  R_{2}^{2}, \\  P_{1} R_{2}, \\  P_{2} R_{2}, \\  P_{1}^{2}, \\  P_{1} P_{2}, \\  P_{2}^{2}\\right]$"
      ],
      "text/plain": [
       "⎡                  2                         2                  2           2⎤\n",
       "⎣R₁, R₂, P₁, P₂, R₁ , R₁⋅R₂, P₁⋅R₁, P₂⋅R₁, R₂ , P₁⋅R₂, P₂⋅R₂, P₁ , P₁⋅P₂, P₂ ⎦"
      ]
     },
     "metadata": {},
     "output_type": "display_data"
    },
    {
     "data": {
      "text/plain": [
       "'Example of a conditional moment equation:'"
      ]
     },
     "metadata": {},
     "output_type": "display_data"
    },
    {
     "data": {
      "text/latex": [
       "$\\displaystyle dM( R_1**2 ) = $"
      ],
      "text/plain": [
       "<IPython.core.display.Math object>"
      ]
     },
     "metadata": {},
     "output_type": "display_data"
    },
    {
     "data": {
      "image/png": "[encoded data removed]",
      "text/latex": [
       "$\\displaystyle G_{1a} c_{13} dt M{\\left(P_{2} \\right)} M{\\left(R_{1}^{2} \\right)} - G_{1a} c_{13} dt M{\\left(P_{2} R_{1}^{2} \\right)} + 2 G_{1a} c_{6} dt M{\\left(R_{1} \\right)} + G_{1a} c_{6} dt + G_{2a} c_{5} dt M{\\left(P_{1} \\right)} M{\\left(R_{1}^{2} \\right)} - G_{2a} c_{5} dt M{\\left(P_{1} R_{1}^{2} \\right)} + 2 c_{1} dt M{\\left(R_{1} \\right)} + c_{1} dt + c_{2} dt M{\\left(R_{1} \\right)} - 2 c_{2} dt M{\\left(R_{1}^{2} \\right)} - dR_{13} M{\\left(R_{1}^{2} \\right)} + \\frac{dR_{13} M{\\left(P_{2} R_{1}^{2} \\right)}}{M{\\left(P_{2} \\right)}} - dR_{5} M{\\left(R_{1}^{2} \\right)} + \\frac{dR_{5} M{\\left(P_{1} R_{1}^{2} \\right)}}{M{\\left(P_{1} \\right)}}$"
      ],
      "text/plain": [
       "                                                                              \n",
       "                  ⎛  2⎞               ⎛     2⎞                                \n",
       "G₁ₐ⋅c₁₃⋅dt⋅M(P₂)⋅M⎝R₁ ⎠ - G₁ₐ⋅c₁₃⋅dt⋅M⎝P₂⋅R₁ ⎠ + 2⋅G₁ₐ⋅c₆⋅dt⋅M(R₁) + G₁ₐ⋅c₆⋅dt\n",
       "                                                                              \n",
       "\n",
       "                                                                              \n",
       "                    ⎛  2⎞              ⎛     2⎞                               \n",
       " + G₂ₐ⋅c₅⋅dt⋅M(P₁)⋅M⎝R₁ ⎠ - G₂ₐ⋅c₅⋅dt⋅M⎝P₁⋅R₁ ⎠ + 2⋅c₁⋅dt⋅M(R₁) + c₁⋅dt + c₂⋅d\n",
       "                                                                              \n",
       "\n",
       "                                               ⎛     2⎞                     ⎛ \n",
       "                   ⎛  2⎞         ⎛  2⎞   dR₁₃⋅M⎝P₂⋅R₁ ⎠        ⎛  2⎞   dR₅⋅M⎝P\n",
       "t⋅M(R₁) - 2⋅c₂⋅dt⋅M⎝R₁ ⎠ - dR₁₃⋅M⎝R₁ ⎠ + ────────────── - dR₅⋅M⎝R₁ ⎠ + ───────\n",
       "                                             M(P₂)                         M(P\n",
       "\n",
       "    2⎞\n",
       "₁⋅R₁ ⎠\n",
       "──────\n",
       "₁)    "
      ]
     },
     "metadata": {},
     "output_type": "display_data"
    }
   ],
   "source": [
    "display(\"Moments for which the conditional moment equations are generated:\", dM)\n",
    "display(\"Example of a conditional moment equation:\")\n",
    "display(Math(r'dM( {} ) = '.format(dM[4])))\n",
    "display(conditional_moments[dM[4]])"
   ]
  },
  {
   "cell_type": "markdown",
   "id": "fc1e0f4b-76a8-4547-a055-0bf7f913d5ae",
   "metadata": {
    "tags": []
   },
   "source": [
    "## 5. Closing the set of moment equations"
   ]
  },
  {
   "cell_type": "markdown",
   "id": "97b0e0cc-a2a3-42b7-b874-03b043954f93",
   "metadata": {},
   "source": [
    "Conditional moment equations of a certain order generally depend on higher order moments such that the system of differential equations is not closed. In the above example, the exemplary equation for a second order moment also depends on third order moments.\n",
    "\n",
    "One way to address this issue is to use a moment closure approximation. Background information on the different assumptions and mechanisms behind moment closure approximations can be found in the literature, e.g. *Schnoerr, D., Sanguinetti, G. & Grima, R. Comparison of different moment-closure approximations for stochastic chemical kinetics. J. Chem. Phys. 143, (2015).*\n",
    "\n",
    "Available moment closure schemes in the generator tool are `normal` and `lognormal` closures for 2nd and 3rd order, i.e., moments of 3rd and 4th order are approximated as functions of lower order terms. The previously computed set of raw conditional moment equations can be closed using the command `closeMoments()`."
   ]
  },
  {
   "cell_type": "code",
   "execution_count": 13,
   "id": "e893f819-b54b-4d00-9647-49c1ca925039",
   "metadata": {},
   "outputs": [],
   "source": [
    "closed_moments = cmg.closeMoments(conditional_moments, scheme = \"normal\", order = order)"
   ]
  },
  {
   "cell_type": "code",
   "execution_count": 14,
   "id": "a3138065-614a-4725-9a21-bb1c84cb1306",
   "metadata": {},
   "outputs": [
    {
     "name": "stdout",
     "output_type": "stream",
     "text": [
      "Example of a closed moment equation:\n"
     ]
    },
    {
     "data": {
      "text/latex": [
       "$\\displaystyle dM( R_1**2 ) = $"
      ],
      "text/plain": [
       "<IPython.core.display.Math object>"
      ]
     },
     "metadata": {},
     "output_type": "display_data"
    },
    {
     "data": {
      "image/png": "[encoded data removed]",
      "text/latex": [
       "$\\displaystyle 2 G_{1a} c_{13} dt M{\\left(P_{2} \\right)} M^{2}{\\left(R_{1} \\right)} - 2 G_{1a} c_{13} dt M{\\left(R_{1} \\right)} M{\\left(P_{2} R_{1} \\right)} + 2 G_{1a} c_{6} dt M{\\left(R_{1} \\right)} + G_{1a} c_{6} dt + 2 G_{2a} c_{5} dt M{\\left(P_{1} \\right)} M^{2}{\\left(R_{1} \\right)} - 2 G_{2a} c_{5} dt M{\\left(R_{1} \\right)} M{\\left(P_{1} R_{1} \\right)} + 2 c_{1} dt M{\\left(R_{1} \\right)} + c_{1} dt + c_{2} dt M{\\left(R_{1} \\right)} - 2 c_{2} dt M{\\left(R_{1}^{2} \\right)} - 2 dR_{13} M^{2}{\\left(R_{1} \\right)} + \\frac{2 dR_{13} M{\\left(R_{1} \\right)} M{\\left(P_{2} R_{1} \\right)}}{M{\\left(P_{2} \\right)}} - 2 dR_{5} M^{2}{\\left(R_{1} \\right)} + \\frac{2 dR_{5} M{\\left(R_{1} \\right)} M{\\left(P_{1} R_{1} \\right)}}{M{\\left(P_{1} \\right)}}$"
      ],
      "text/plain": [
       "                    2                                                         \n",
       "2⋅G₁ₐ⋅c₁₃⋅dt⋅M(P₂)⋅M (R₁) - 2⋅G₁ₐ⋅c₁₃⋅dt⋅M(R₁)⋅M(P₂⋅R₁) + 2⋅G₁ₐ⋅c₆⋅dt⋅M(R₁) + \n",
       "                                                                              \n",
       "\n",
       "                               2                                              \n",
       "G₁ₐ⋅c₆⋅dt + 2⋅G₂ₐ⋅c₅⋅dt⋅M(P₁)⋅M (R₁) - 2⋅G₂ₐ⋅c₅⋅dt⋅M(R₁)⋅M(P₁⋅R₁) + 2⋅c₁⋅dt⋅M(\n",
       "                                                                              \n",
       "\n",
       "                                     ⎛  2⎞           2       2⋅dR₁₃⋅M(R₁)⋅M(P₂\n",
       "R₁) + c₁⋅dt + c₂⋅dt⋅M(R₁) - 2⋅c₂⋅dt⋅M⎝R₁ ⎠ - 2⋅dR₁₃⋅M (R₁) + ─────────────────\n",
       "                                                                     M(P₂)    \n",
       "\n",
       "⋅R₁)          2       2⋅dR₅⋅M(R₁)⋅M(P₁⋅R₁)\n",
       "──── - 2⋅dR₅⋅M (R₁) + ────────────────────\n",
       "                             M(P₁)        "
      ]
     },
     "metadata": {},
     "output_type": "display_data"
    }
   ],
   "source": [
    "print(\"Example of a closed moment equation:\")\n",
    "display(Math(r'dM( {} ) = '.format(dM[4])))\n",
    "display(closed_moments[dM[4]])"
   ]
  },
  {
   "cell_type": "markdown",
   "id": "498dd01d-8164-4553-bb2c-d9b79e2a4797",
   "metadata": {},
   "source": [
    "Note that the expression now only contains moments up to the specified order 2."
   ]
  },
  {
   "cell_type": "markdown",
   "id": "f5690f41-3a5a-4be1-a021-a858449da68f",
   "metadata": {},
   "source": [
    "## 6. Converting the obtained equations for further use"
   ]
  },
  {
   "cell_type": "markdown",
   "id": "7e979817-85ec-49b1-92f5-cbf02ff65d35",
   "metadata": {},
   "source": [
    "The obtained set of closed conditional moment equations now can be further used for a variety of applications. In order to perform simulations or use them in another way, the symbolic expressions can be converted into numerically evaluable functions using `sympy`'s function `lambdify`. In the generator, the `sympyExprToDiffEq()` command provides a mean to separate the deterministic and stochastic parts of the expressions which then can be lamdified separately."
   ]
  },
  {
   "cell_type": "code",
   "execution_count": 15,
   "id": "88d9c027-b2a3-4aba-aa86-1ab249daceb5",
   "metadata": {},
   "outputs": [],
   "source": [
    "det, mapping, stoch = cmg.sympyExprToDiffEq(dM, closed_moments, stoich_net)\n",
    "moment_names = [m for _,m in mapping]"
   ]
  },
  {
   "cell_type": "code",
   "execution_count": 16,
   "id": "b0b06e90-eb99-4017-b576-2c8f4634424b",
   "metadata": {},
   "outputs": [],
   "source": [
    "det_func = lambdify([symbols('y'), symbols('t'), X, rates, moment_names], det)\n",
    "stoch_func = lambdify([X, rates, moment_names], stoch)"
   ]
  },
  {
   "cell_type": "markdown",
   "id": "33fda24f-4f5d-4efd-82c0-b9ba285a3c34",
   "metadata": {},
   "source": [
    "`det_func` is a function for the deterministic (time-dependent) parts of the differential moment equations.\n",
    "\n",
    "`stoch_func` is a function for the stochastic jumps that contribute to the differential equations if a coupling reaction fires."
   ]
  },
  {
   "cell_type": "markdown",
   "id": "2f13481f-437b-4d24-a5d5-5428e72fa3f8",
   "metadata": {},
   "source": [
    "## 7. Wrapping everything together"
   ]
  },
  {
   "cell_type": "markdown",
   "id": "8624c8cc-0120-407a-bca2-85486edba1c8",
   "metadata": {},
   "source": [
    "Alternatively, all of the above steps of generating the conditional moment equations can be combined in one single command: `generateEquations()`.\n",
    "\n",
    "It requires as input the reactant and product stoichiometry, and a list of *selected* species. Optional inputs are species and rate names (default: $A,B,C, ..., c_1, c_2, c_3, ...$) , the order up to which the moment equations should be generated (default: 2), and a closure scheme (`normal` or `lognormal`; default: `normal`).\n",
    "If a name for an output `file` is given, the output will be saved to a `txt` file and to a dill file which saves the symbolic expressions such that they can be read into Python and do not need to be computed again.\n",
    "\n",
    "The output is a dictionary which contains the species, rates, propensities, net stoichiomentry, names of moments for which conditional moment equations were generated, raw moment equations, closed moment equations, as well as their deterministic and stochastic parts."
   ]
  },
  {
   "cell_type": "code",
   "execution_count": 17,
   "id": "273fb2f5-e2ed-46ec-a9ae-ce9019b657c0",
   "metadata": {},
   "outputs": [],
   "source": [
    "stoich_reac = Matrix(((0,0,0,0,0,1,0,1,0,0,0,0,1,0,0,0), # G_1a (active)\n",
    "                     (0,0,0,0,0,0,1,0,0,0,0,0,0,0,0,0), # G_1i (inactive)\n",
    "                     (0,0,0,0,1,0,0,0,0,0,0,0,0,1,0,1), # G_2a\n",
    "                     (0,0,0,0,0,0,0,0,0,0,0,0,0,0,1,0), # G_2i\n",
    "                     (0,1,1,0,0,0,0,0,0,0,0,0,0,0,0,0), # R_1\n",
    "                     (0,0,0,0,0,0,0,0,0,1,1,0,0,0,0,0), # R_2\n",
    "                     (0,0,0,1,1,0,0,0,0,0,0,0,0,0,0,0), # P_1\n",
    "                     (0,0,0,0,0,0,0,0,0,0,0,1,1,0,0,0))) # P_2\n",
    "\n",
    "stoich_prod = Matrix(((0,0,0,0,0,1,1,0,0,0,0,0,0,0,0,0), # G_1a\n",
    "                     (0,0,0,0,0,0,0,1,0,0,0,0,1,0,0,0), # G_1i\n",
    "                     (0,0,0,0,0,0,0,0,0,0,0,0,0,1,1,0), # G_2a\n",
    "                     (0,0,0,0,1,0,0,0,0,0,0,0,0,0,0,1), # G_2i\n",
    "                     (1,0,1,0,0,1,0,0,0,0,0,0,0,0,0,0), # R_1\n",
    "                     (0,0,0,0,0,0,0,0,1,0,1,0,0,1,0,0), # R_2\n",
    "                     (0,0,1,0,1,0,0,0,0,0,0,0,0,0,0,0), # P_1\n",
    "                     (0,0,0,0,0,0,0,0,0,0,1,0,1,0,0,0))) # P_2\n",
    "\n",
    "species = ['G_1a', 'G_1i', 'G_2a', 'G_2i', 'R_1', 'R_2', 'P_1', 'P_2'] # optional\n",
    "select = ['G_1a', 'G_1i', 'G_2a', 'G_2i']\n",
    "order = 2 # optional\n",
    "scheme = 'normal' # optional\n",
    "file = 'example_output'"
   ]
  },
  {
   "cell_type": "code",
   "execution_count": 18,
   "id": "cd1047d0-a9bd-4d2b-8836-b779058d3d45",
   "metadata": {},
   "outputs": [],
   "source": [
    "my_system = cmg.generateEquations(stoich_reac, \n",
    "                                  stoich_prod,\n",
    "                                  X = species,\n",
    "                                  #rates = constants, # (optional list with names for reaction rate constants)\n",
    "                                  select = select, \n",
    "                                  order = order, \n",
    "                                  scheme = scheme, \n",
    "                              file = file)"
   ]
  },
  {
   "cell_type": "code",
   "execution_count": 19,
   "id": "86c0322b-96ac-4d6a-80e7-8499927f0d3c",
   "metadata": {},
   "outputs": [
    {
     "name": "stdout",
     "output_type": "stream",
     "text": [
      "The generated dictionary contains: dict_keys(['species', 'rates', 'stoich_net', 'stoich_reac', 'stoich_prod', 'propensities', 'idx_select', 'idx_latent', 'RX', 'RL', 'RO', 'RH', 'RC', 'RZ', 'filterEq', 'dM', 'conditional_moments', 'closed_moments', 'det_parts', 'stoch_parts', 'mapping'])\n"
     ]
    }
   ],
   "source": [
    "print(\"The generated dictionary contains:\", my_system.keys())"
   ]
  },
  {
   "cell_type": "markdown",
   "id": "9e3d2d64-b41f-44ce-ab46-1c0b41248b65",
   "metadata": {},
   "source": [
    "To further use the obtained equations in numerical applications, symbolic expressions of the reaction network can be restored from the output file using the command `loadAndLamdify()`. This command also generates numerically evaluable functions for the deterministic and stochastic parts of the conditional moment equations."
   ]
  },
  {
   "cell_type": "code",
   "execution_count": 20,
   "id": "5399108b-33ed-4e81-be1c-63b2cce8b22e",
   "metadata": {},
   "outputs": [],
   "source": [
    "my_system_loaded, det_func, stoch_func = cmg.loadAndLambdify(file)"
   ]
  },
  {
   "cell_type": "markdown",
   "id": "9b7b12f2-61a8-4f87-8e25-7a754a10cc0a",
   "metadata": {},
   "source": [
    "## 8. Further remarks"
   ]
  },
  {
   "cell_type": "markdown",
   "id": "eb9c10c9-c5bf-4701-8d17-d6eb1ccc2372",
   "metadata": {},
   "source": [
    "To see a potential **application** of the conditional moment equations, check out the `snSSA` notebook.\n",
    "\n",
    "If you only want to generate the **chemical master equation** of a reaction network, do the following:\n",
    "1. specify the reactant and product stoichiometry as shown above using the `Matrix()` syntax\n",
    "2. execute `X, rates, stoich_net = reactionSystem(stoich_reac, stoich_prod)`\n",
    "2. execute `idx_select, idx_latent, RX, RL, RO, RH, RC, RZ = splitNetwork(select, X, stoich_net, stoich_reac, stoich_prod)`\n",
    "3. execute `CME = chemicalMasterEquation(X, rates, stoich_reac, stoich_net, RZ, idx_latent, idx_select)`\n",
    "\n",
    "If you need **further information** on the implemented functions, you can access their docstrings via `?<function>`:"
   ]
  },
  {
   "cell_type": "code",
   "execution_count": 21,
   "id": "191782e4-b02a-4603-85a9-10a11c86ecce",
   "metadata": {},
   "outputs": [
    {
     "data": {
      "text/plain": [
       "\u001b[0;31mSignature:\u001b[0m \u001b[0mcmg\u001b[0m\u001b[0;34m.\u001b[0m\u001b[0mreactionSystem\u001b[0m\u001b[0;34m(\u001b[0m\u001b[0mstoich_reac\u001b[0m\u001b[0;34m,\u001b[0m \u001b[0mstoich_prod\u001b[0m\u001b[0;34m,\u001b[0m \u001b[0mX\u001b[0m\u001b[0;34m=\u001b[0m\u001b[0;32mNone\u001b[0m\u001b[0;34m,\u001b[0m \u001b[0mrates\u001b[0m\u001b[0;34m=\u001b[0m\u001b[0;32mNone\u001b[0m\u001b[0;34m)\u001b[0m\u001b[0;34m\u001b[0m\u001b[0;34m\u001b[0m\u001b[0m\n",
       "\u001b[0;31mDocstring:\u001b[0m\n",
       "Generates symbolic species and rate names, as well as net stoichiometry\n",
       "of the reaction system.\n",
       "If names for rates and species are not specified, default names are used.\n",
       "\n",
       "Example:\n",
       "    species names for 2 occurring species: X = ['G_on', 'G_off']\n",
       "    rate names for 4 reactions: rates = ['prod', 'prod_2', 'degr', 'conv']\n",
       "\n",
       "Parameters\n",
       "----------\n",
       "stoich_reac : sympy.Matrix()\n",
       "    reaction stoichiometry of the reaction system.\n",
       "stoich_prod : sympy.Matrix()\n",
       "    product stoichiometry of the reaction system.\n",
       "X : list of strings, optional\n",
       "    specified names of species. \n",
       "    The default is None.\n",
       "rates : list of strings, optional\n",
       "    specified names of chemical reaction rates. \n",
       "    The default is None.\n",
       "\n",
       "Returns\n",
       "-------\n",
       "X : list of symbols\n",
       "    symbolic species names.\n",
       "rates : list of symbols\n",
       "    symbolic rate names.\n",
       "stoich_net : sympy.Matrix()\n",
       "    net stoichiometry matrix of reaction system.\n",
       "\u001b[0;31mFile:\u001b[0m      ~/Documents/CMSB2022/code/conditional-moment-generation/conditionalMomentGenerator.py\n",
       "\u001b[0;31mType:\u001b[0m      function\n"
      ]
     },
     "metadata": {},
     "output_type": "display_data"
    }
   ],
   "source": [
    "?cmg.reactionSystem"
   ]
  },
  {
   "cell_type": "code",
   "execution_count": null,
   "id": "54f298a8-8b71-4c92-9de0-2fd4417e9254",
   "metadata": {},
   "outputs": [],
   "source": []
  }
 ],
 "metadata": {
  "kernelspec": {
   "display_name": "Python 3 (ipykernel)",
   "language": "python",
   "name": "python3"
  },
  "language_info": {
   "codemirror_mode": {
    "name": "ipython",
    "version": 3
   },
   "file_extension": ".py",
   "mimetype": "text/x-python",
   "name": "python",
   "nbconvert_exporter": "python",
   "pygments_lexer": "ipython3",
   "version": "3.9.7"
  }
 },
 "nbformat": 4,
 "nbformat_minor": 5
}
